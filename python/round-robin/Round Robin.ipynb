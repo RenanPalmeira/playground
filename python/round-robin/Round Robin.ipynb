{
 "cells": [
  {
   "cell_type": "code",
   "execution_count": 1,
   "metadata": {
    "collapsed": false
   },
   "outputs": [],
   "source": [
    "import random\n",
    "import string\n",
    "from collections import OrderedDict"
   ]
  },
  {
   "cell_type": "code",
   "execution_count": 2,
   "metadata": {
    "collapsed": true
   },
   "outputs": [],
   "source": [
    "QUANTUM = 2"
   ]
  },
  {
   "cell_type": "code",
   "execution_count": 3,
   "metadata": {
    "collapsed": false
   },
   "outputs": [],
   "source": [
    "letters = string.ascii_uppercase[:5]"
   ]
  },
  {
   "cell_type": "code",
   "execution_count": 4,
   "metadata": {
    "collapsed": false
   },
   "outputs": [],
   "source": [
    "matches = []\n",
    "for letter in letters:\n",
    "    matches.append((letter, random.randrange(1, 8)))"
   ]
  },
  {
   "cell_type": "code",
   "execution_count": 5,
   "metadata": {
    "collapsed": false
   },
   "outputs": [
    {
     "data": {
      "text/plain": [
       "[('A', 7), ('B', 4), ('C', 2), ('D', 2), ('E', 6)]"
      ]
     },
     "execution_count": 5,
     "metadata": {},
     "output_type": "execute_result"
    }
   ],
   "source": [
    "matches"
   ]
  },
  {
   "cell_type": "code",
   "execution_count": 6,
   "metadata": {
    "collapsed": false
   },
   "outputs": [],
   "source": [
    "round_robin = OrderedDict()\n",
    "for match in matches:\n",
    "    n = 0\n",
    "    total = match[1]\n",
    "    key = ''.join(map(str, match))\n",
    "    while n < total:\n",
    "        step = 0\n",
    "        if (total - n) > QUANTUM:\n",
    "            step = QUANTUM\n",
    "        else:\n",
    "            step = total - n\n",
    "        \n",
    "        if key not in round_robin:\n",
    "             round_robin[key] = []\n",
    "\n",
    "        round_robin[key].append(key[0] + str(step))\n",
    "        n += QUANTUM\n",
    "    "
   ]
  },
  {
   "cell_type": "code",
   "execution_count": 7,
   "metadata": {
    "collapsed": false
   },
   "outputs": [
    {
     "data": {
      "text/plain": [
       "OrderedDict([('A7', ['A2', 'A2', 'A2', 'A1']),\n",
       "             ('B4', ['B2', 'B2']),\n",
       "             ('C2', ['C2']),\n",
       "             ('D2', ['D2']),\n",
       "             ('E6', ['E2', 'E2', 'E2'])])"
      ]
     },
     "execution_count": 7,
     "metadata": {},
     "output_type": "execute_result"
    }
   ],
   "source": [
    "round_robin"
   ]
  },
  {
   "cell_type": "code",
   "execution_count": 8,
   "metadata": {
    "collapsed": false
   },
   "outputs": [],
   "source": [
    "index = 0\n",
    "final = []\n",
    "while index < len(round_robin[max(round_robin, key=lambda i: len(round_robin[i]))]):\n",
    "    for key, pid in round_robin.iteritems():\n",
    "        if index < len(pid):\n",
    "            final.append(pid[index])\n",
    "    index += 1"
   ]
  },
  {
   "cell_type": "code",
   "execution_count": 9,
   "metadata": {
    "collapsed": false
   },
   "outputs": [
    {
     "name": "stdout",
     "output_type": "stream",
     "text": [
      "['A2', 'B2', 'C2', 'D2', 'E2', 'A2', 'B2', 'E2', 'A2', 'E2', 'A1']\n"
     ]
    }
   ],
   "source": [
    "print final"
   ]
  }
 ],
 "metadata": {
  "kernelspec": {
   "display_name": "Python 2",
   "language": "python",
   "name": "python2"
  },
  "language_info": {
   "codemirror_mode": {
    "name": "ipython",
    "version": 2
   },
   "file_extension": ".py",
   "mimetype": "text/x-python",
   "name": "python",
   "nbconvert_exporter": "python",
   "pygments_lexer": "ipython2",
   "version": "2.7.11+"
  }
 },
 "nbformat": 4,
 "nbformat_minor": 1
}
